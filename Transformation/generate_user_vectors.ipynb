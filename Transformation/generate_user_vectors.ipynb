{
 "cells": [
  {
   "cell_type": "code",
   "execution_count": 1,
   "metadata": {
    "collapsed": true
   },
   "outputs": [],
   "source": [
    "import os\n",
    "import sys\n",
    "import numpy as np\n",
    "import pandas as pd\n",
    "import scipy\n",
    "from sklearn.feature_extraction.text import TfidfVectorizer, CountVectorizer\n",
    "from sklearn.metrics.pairwise import linear_kernel, cosine_similarity\n",
    "from sklearn.decomposition import TruncatedSVD\n",
    "from surprise import Reader, Dataset, SVD, dump\n",
    "from surprise.model_selection import cross_validate  # thay cho evaluate\n",
    "import surprise.accuracy as accuracy                 # giữ accuracy\n",
    "\n",
    "from collections import defaultdict\n",
    "\n",
    "# Custom libraries\n",
    "sys.path.append('../Util')\n",
    "from loader import get_books, get_book_dataframe, get_book_features\n",
    "from joiner import get_ratings, get_joint, load_amazon, load_goodreads\n",
    "from reduction import reduce_matrix, get_sparse"
   ]
  },
  {
   "cell_type": "code",
   "execution_count": 3,
   "metadata": {
    "collapsed": true
   },
   "outputs": [],
   "source": [
    "# new user - likes fantasy\n",
    "q = np.zeros((10000), dtype=float)\n",
    "q[19-1] = 3.0 # LOTR 1\n",
    "q[155-1] = 3.0 # LOTR 2\n",
    "q[161-1] = 3.0 # LOTR 3\n",
    "q[7-1] = 3.0 # Hobbit\n",
    "q[611-1] = 3.0 #Silmarillion\n",
    "q[189-1] = 3.0 #LOTR boxed set\n",
    "q[135-1] = 3.0 #GOT\n",
    "q[188-1] = 3.0 #GOT\n",
    "q[330-1] = 3.0 #WOT\n",
    "q[510-1] = 3.0 #WOT"
   ]
  },
  {
   "cell_type": "code",
   "execution_count": 5,
   "metadata": {
    "collapsed": true
   },
   "outputs": [],
   "source": [
    "scipy.sparse.save_npz('../.tmp/cached_users/user_likes_fantasy.npz', scipy.sparse.csr_matrix(q))"
   ]
  },
  {
   "cell_type": "code",
   "execution_count": 7,
   "metadata": {
    "collapsed": true
   },
   "outputs": [],
   "source": [
    "# new user - likes sci-fi and mystery, hates fantasy\n",
    "q = np.zeros((10000), dtype = float)\n",
    "q[126-1] = 3.0 # Dune\n",
    "q[70-1] = 3.0 # Enders Game\n",
    "q[503-1] = 3.0 # Space Odyssey\n",
    "\n",
    "q[514-1] = 3.0 # Sherlock Holmens\n",
    "q[672-1] = 3.0 # Orient Express\n",
    "q[200-1] = 3.0 # And then there were none\n",
    "\n",
    "q[19-1] = -2.0 # LOTR 1\n",
    "q[155-1] = -2.0 # LOTR 2\n",
    "q[161-1] = -2.0 # LOTR 3\n",
    "q[7-1] = -2.0 # Hobbit"
   ]
  },
  {
   "cell_type": "code",
   "execution_count": 8,
   "metadata": {
    "collapsed": true
   },
   "outputs": [],
   "source": [
    "scipy.sparse.save_npz('../.tmp/cached_users/user_likes_mystery_scifi_hates_fantasy.npz', scipy.sparse.csr_matrix(q))"
   ]
  },
  {
   "cell_type": "code",
   "execution_count": 9,
   "metadata": {
    "collapsed": true
   },
   "outputs": [],
   "source": [
    "# new user - likes romance\n",
    "q = np.zeros((10000), dtype = float)\n",
    "q[34-1] = 3.0 # 50 shades grey\n",
    "q[10-1] = 3.0 # Pride and Pre\n",
    "q[203-1] = 3.0 # beau disaster\n",
    "q[517-1] = 3.0 # perfect chemistry\n",
    "q[589-1] = 3.0 #contours heart\n",
    "q[107-1] = 3.0 #walk to remember"
   ]
  },
  {
   "cell_type": "code",
   "execution_count": 10,
   "metadata": {
    "collapsed": true
   },
   "outputs": [],
   "source": [
    "scipy.sparse.save_npz('../.tmp/cached_users/user_likes_romance.npz', scipy.sparse.csr_matrix(q))"
   ]
  },
  {
   "cell_type": "code",
   "execution_count": 11,
   "metadata": {
    "collapsed": true
   },
   "outputs": [],
   "source": [
    "# new user - likes history\n",
    "q = np.zeros((10000), dtype = float)\n",
    "q[870-1] = 3.0 # lincoln\n",
    "q[1710-1] = 3.0 # history of everything\n",
    "q[2174-1] = 3.0 # truman\n",
    "q[3675-1] = 3.0 # khan\n",
    "q[4906-1] = 3.0 # 14 century\n",
    "q[3543-1] = 3.0 # ireland"
   ]
  },
  {
   "cell_type": "code",
   "execution_count": 12,
   "metadata": {
    "collapsed": true
   },
   "outputs": [],
   "source": [
    "scipy.sparse.save_npz('../.tmp/cached_users/user_likes_history.npz', scipy.sparse.csr_matrix(q))"
   ]
  }
 ],
 "metadata": {
  "kernelspec": {
   "display_name": "Python 3",
   "language": "python",
   "name": "python3"
  },
  "language_info": {
   "codemirror_mode": {
    "name": "ipython",
    "version": 3
   },
   "file_extension": ".py",
   "mimetype": "text/x-python",
   "name": "python",
   "nbconvert_exporter": "python",
   "pygments_lexer": "ipython3",
   "version": "3.12.6"
  }
 },
 "nbformat": 4,
 "nbformat_minor": 2
}
