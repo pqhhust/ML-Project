{
 "cells": [
  {
   "cell_type": "code",
   "execution_count": 1,
   "metadata": {
    "collapsed": true
   },
   "outputs": [],
   "source": [
    "import sys\n",
    "import numpy as np\n",
    "import pandas as pd\n",
    "import scipy"
   ]
  },
  {
   "cell_type": "code",
   "execution_count": 7,
   "metadata": {
    "collapsed": true
   },
   "outputs": [],
   "source": [
    "def load_goodreads(data_path):\n",
    "    # Read in goodreads data\n",
    "    ratings_goodreads = pd.read_csv(data_path)\n",
    "    ratings_goodreads['book_id'] = ratings_goodreads['book_id'].astype(int)\n",
    "    return ratings_goodreads"
   ]
  },
  {
   "cell_type": "code",
   "execution_count": 8,
   "metadata": {
    "collapsed": true
   },
   "outputs": [],
   "source": [
    "data_path = '../goodbooks-10k/'"
   ]
  },
  {
   "cell_type": "code",
   "execution_count": 9,
   "metadata": {},
   "outputs": [],
   "source": [
    "# Only use Goodreads ratings\n",
    "ratings = load_goodreads(data_path + 'ratings.csv')\n",
    "\n",
    "# prepare to be read in to Reader\n",
    "ratings = ratings.sort_values(by=['user_id','book_id'])\n",
    "ratings = ratings.reset_index(drop=True)\n",
    "ratings = ratings.rename(index=str, columns={\"user_id\": \"userID\", \"book_id\": \"itemID\", \"rating\": \"rating\"})\n",
    "\n",
    "ratings.to_pickle('../.tmp/ratings_pickle_goodreads')"
   ]
  },
  {
   "cell_type": "code",
   "execution_count": null,
   "metadata": {
    "collapsed": true
   },
   "outputs": [],
   "source": []
  }
 ],
 "metadata": {
  "kernelspec": {
   "display_name": "Python 3",
   "language": "python",
   "name": "python3"
  },
  "language_info": {
   "codemirror_mode": {
    "name": "ipython",
    "version": 3
   },
   "file_extension": ".py",
   "mimetype": "text/x-python",
   "name": "python",
   "nbconvert_exporter": "python",
   "pygments_lexer": "ipython3",
   "version": "3.12.6"
  }
 },
 "nbformat": 4,
 "nbformat_minor": 2
}
