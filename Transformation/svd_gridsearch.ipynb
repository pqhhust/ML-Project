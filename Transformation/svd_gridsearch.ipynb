{
 "cells": [
  {
   "cell_type": "code",
   "execution_count": 19,
   "metadata": {
    "collapsed": true
   },
   "outputs": [],
   "source": [
    "import os\n",
    "import sys\n",
    "import numpy as np\n",
    "import pandas as pd\n",
    "import scipy\n",
    "from surprise import Reader, Dataset, SVD, evaluate, dump, accuracy\n",
    "from surprise.model_selection import GridSearchCV, cross_validate\n",
    "from collections import defaultdict\n",
    "import itertools"
   ]
  },
  {
   "cell_type": "code",
   "execution_count": 17,
   "metadata": {
    "collapsed": true
   },
   "outputs": [],
   "source": [
    "# Load ratings DF\n",
    "ratings = pd.read_pickle('../.tmp/ratings_pickle')"
   ]
  },
  {
   "cell_type": "code",
   "execution_count": 9,
   "metadata": {
    "collapsed": true
   },
   "outputs": [],
   "source": [
    "reader = Reader(rating_scale=(1, 5))\n",
    "data = Dataset.load_from_df(ratings[['userID', 'itemID', 'rating']], reader)"
   ]
  },
  {
   "cell_type": "code",
   "execution_count": null,
   "metadata": {
    "collapsed": true,
    "scrolled": true
   },
   "outputs": [],
   "source": [
    "param_grid = {'n_epochs': [20, 50], \n",
    "              'n_factors': [100, 200],\n",
    "              'lr_all': [0.0005, 0.005],\n",
    "              'reg_all': [0.005, 0.02]}\n",
    "keys, values = zip(*param_grid.items())\n",
    "params = [dict(zip(keys, v)) for v in itertools.product(*values)]"
   ]
  },
  {
   "cell_type": "code",
   "execution_count": 10,
   "metadata": {
    "collapsed": true
   },
   "outputs": [],
   "source": [
    "# param_grid = {'n_epochs': [1], \n",
    "#               'n_factors': [3],\n",
    "#               'lr_all': [0.5],\n",
    "#               'reg_all': [0.52]}\n",
    "# keys, values = zip(*param_grid.items())\n",
    "# params = [dict(zip(keys, v)) for v in itertools.product(*values)]"
   ]
  },
  {
   "cell_type": "code",
   "execution_count": 12,
   "metadata": {
    "scrolled": true
   },
   "outputs": [
    {
     "name": "stdout",
     "output_type": "stream",
     "text": [
      "Running SVD with params: {'n_epochs': 1, 'n_factors': 3, 'lr_all': 0.5, 'reg_all': 0.52}\n",
      "Evaluating RMSE, MAE of algorithm SVD on 5 split(s).\n",
      "\n",
      "                  Fold 1  Fold 2  Fold 3  Fold 4  Fold 5  Mean    Std     \n",
      "RMSE (testset)    1.1319  1.1385  1.1423  1.1408  1.2394  1.1586  0.0406  \n",
      "MAE (testset)     0.8666  0.8731  0.8772  0.8756  0.9234  0.8832  0.0204  \n",
      "Fit time          6.51    6.74    5.73    6.11    6.00    6.22    0.36    \n",
      "Test time         14.81   14.65   15.27   14.10   15.19   14.81   0.42    \n",
      "Best RMSE: inf\n",
      "Best params: {'n_epochs': 1, 'n_factors': 3, 'lr_all': 0.5, 'reg_all': 0.52}\n"
     ]
    }
   ],
   "source": [
    "best_RMSE = float('inf')\n",
    "best_param = None\n",
    "for param in params:\n",
    "    print(\"Running SVD with params: %s\" % (param))\n",
    "    algo = SVD(lr_all=param['lr_all'],reg_all=param['reg_all'], n_epochs=param['n_epochs'],n_factors=param['n_factors'])\n",
    "    \n",
    "    # Run 5-fold cross-validation and print results\n",
    "    results = cross_validate(algo, data, measures=['RMSE', 'MAE'], cv=5, n_jobs=-1, verbose=True)\n",
    "    \n",
    "    avg_rmse = 0\n",
    "    rmse = results['test_rmse']\n",
    "    for r in rmse:\n",
    "        avg_rmse += r\n",
    "    avg_rmse /= len(rmse)\n",
    "    \n",
    "    if avg_rmse < best_RMSE:\n",
    "        best_RMSE = avg_rmse\n",
    "        best_param = param"
   ]
  },
  {
   "cell_type": "code",
   "execution_count": null,
   "metadata": {
    "collapsed": true
   },
   "outputs": [],
   "source": [
    "print(\"Best RMSE: %s\" % best_RMSE)\n",
    "print(\"Best params: %s\" % best_param)"
   ]
  },
  {
   "cell_type": "code",
   "execution_count": 16,
   "metadata": {
    "collapsed": true
   },
   "outputs": [],
   "source": [
    "with open('../.tmp/grid_search_best_params.txt', 'w') as the_file:\n",
    "    the_file.write(\"Best RMSE: %s\\n\" % best_RMSE)\n",
    "    the_file.write(\"Best params: %s\" % best_param)"
   ]
  }
 ],
 "metadata": {
  "kernelspec": {
   "display_name": "Python 3",
   "language": "python",
   "name": "python3"
  },
  "language_info": {
   "codemirror_mode": {
    "name": "ipython",
    "version": 3
   },
   "file_extension": ".py",
   "mimetype": "text/x-python",
   "name": "python",
   "nbconvert_exporter": "python",
   "pygments_lexer": "ipython3",
   "version": "3.12.6"
  }
 },
 "nbformat": 4,
 "nbformat_minor": 2
}
