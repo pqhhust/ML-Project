{
 "cells": [
  {
   "cell_type": "markdown",
   "metadata": {},
   "source": [
    "## Missing Images\n",
    "\n",
    "The Goodreads 10k dataset has a lot of missing images by default. This notebook updates those images to new links. Make sure you put the `books_dataframe` pickle to this directory."
   ]
  },
  {
   "cell_type": "code",
   "execution_count": 1,
   "metadata": {},
   "outputs": [],
   "source": [
    "import pandas as pd"
   ]
  },
  {
   "cell_type": "code",
   "execution_count": 3,
   "metadata": {},
   "outputs": [],
   "source": [
    "books = pd.read_pickle('books_dataframe')"
   ]
  },
  {
   "cell_type": "code",
   "execution_count": 4,
   "metadata": {},
   "outputs": [
    {
     "data": {
      "text/html": [
       "<div>\n",
       "<style scoped>\n",
       "    .dataframe tbody tr th:only-of-type {\n",
       "        vertical-align: middle;\n",
       "    }\n",
       "\n",
       "    .dataframe tbody tr th {\n",
       "        vertical-align: top;\n",
       "    }\n",
       "\n",
       "    .dataframe thead th {\n",
       "        text-align: right;\n",
       "    }\n",
       "</style>\n",
       "<table border=\"1\" class=\"dataframe\">\n",
       "  <thead>\n",
       "    <tr style=\"text-align: right;\">\n",
       "      <th></th>\n",
       "      <th>author</th>\n",
       "      <th>description</th>\n",
       "      <th>image_url</th>\n",
       "      <th>title</th>\n",
       "      <th>url</th>\n",
       "    </tr>\n",
       "    <tr>\n",
       "      <th>id</th>\n",
       "      <th></th>\n",
       "      <th></th>\n",
       "      <th></th>\n",
       "      <th></th>\n",
       "      <th></th>\n",
       "    </tr>\n",
       "  </thead>\n",
       "  <tbody>\n",
       "    <tr>\n",
       "      <th>1</th>\n",
       "      <td>Suzanne Collins</td>\n",
       "      <td>Winning will make you famous. Losing means cer...</td>\n",
       "      <td>https://images.gr-assets.com/books/1447303603m...</td>\n",
       "      <td>The Hunger Games (The Hunger Games, #1)</td>\n",
       "      <td>https://www.goodreads.com/book/show/2767052-th...</td>\n",
       "    </tr>\n",
       "    <tr>\n",
       "      <th>2</th>\n",
       "      <td>J.K. Rowling</td>\n",
       "      <td>Harry Potter's life is miserable. His parents ...</td>\n",
       "      <td>https://images.gr-assets.com/books/1474154022m...</td>\n",
       "      <td>Harry Potter and the Sorcerer's Stone (Harry P...</td>\n",
       "      <td>https://www.goodreads.com/book/show/3.Harry_Po...</td>\n",
       "    </tr>\n",
       "    <tr>\n",
       "      <th>3</th>\n",
       "      <td>Stephenie Meyer</td>\n",
       "      <td>About three things I was absolutely positive.F...</td>\n",
       "      <td>https://images.gr-assets.com/books/1361039443m...</td>\n",
       "      <td>Twilight (Twilight, #1)</td>\n",
       "      <td>https://www.goodreads.com/book/show/41865.Twil...</td>\n",
       "    </tr>\n",
       "    <tr>\n",
       "      <th>4</th>\n",
       "      <td>Harper Lee</td>\n",
       "      <td>The unforgettable novel of a childhood in a sl...</td>\n",
       "      <td>https://images.gr-assets.com/books/1361975680m...</td>\n",
       "      <td>To Kill a Mockingbird</td>\n",
       "      <td>https://www.goodreads.com/book/show/2657.To_Ki...</td>\n",
       "    </tr>\n",
       "    <tr>\n",
       "      <th>5</th>\n",
       "      <td>F. Scott Fitzgerald</td>\n",
       "      <td>THE GREAT GATSBY, F. Scott Fitzgerald’s third ...</td>\n",
       "      <td>https://images.gr-assets.com/books/1490528560m...</td>\n",
       "      <td>The Great Gatsby</td>\n",
       "      <td>https://www.goodreads.com/book/show/4671.The_G...</td>\n",
       "    </tr>\n",
       "  </tbody>\n",
       "</table>\n",
       "</div>"
      ],
      "text/plain": [
       "                 author                                        description  \\\n",
       "id                                                                           \n",
       "1       Suzanne Collins  Winning will make you famous. Losing means cer...   \n",
       "2          J.K. Rowling  Harry Potter's life is miserable. His parents ...   \n",
       "3       Stephenie Meyer  About three things I was absolutely positive.F...   \n",
       "4            Harper Lee  The unforgettable novel of a childhood in a sl...   \n",
       "5   F. Scott Fitzgerald  THE GREAT GATSBY, F. Scott Fitzgerald’s third ...   \n",
       "\n",
       "                                            image_url  \\\n",
       "id                                                      \n",
       "1   https://images.gr-assets.com/books/1447303603m...   \n",
       "2   https://images.gr-assets.com/books/1474154022m...   \n",
       "3   https://images.gr-assets.com/books/1361039443m...   \n",
       "4   https://images.gr-assets.com/books/1361975680m...   \n",
       "5   https://images.gr-assets.com/books/1490528560m...   \n",
       "\n",
       "                                                title  \\\n",
       "id                                                      \n",
       "1             The Hunger Games (The Hunger Games, #1)   \n",
       "2   Harry Potter and the Sorcerer's Stone (Harry P...   \n",
       "3                             Twilight (Twilight, #1)   \n",
       "4                               To Kill a Mockingbird   \n",
       "5                                    The Great Gatsby   \n",
       "\n",
       "                                                  url  \n",
       "id                                                     \n",
       "1   https://www.goodreads.com/book/show/2767052-th...  \n",
       "2   https://www.goodreads.com/book/show/3.Harry_Po...  \n",
       "3   https://www.goodreads.com/book/show/41865.Twil...  \n",
       "4   https://www.goodreads.com/book/show/2657.To_Ki...  \n",
       "5   https://www.goodreads.com/book/show/4671.The_G...  "
      ]
     },
     "execution_count": 4,
     "metadata": {},
     "output_type": "execute_result"
    }
   ],
   "source": [
    "books.head()"
   ]
  },
  {
   "cell_type": "code",
   "execution_count": 8,
   "metadata": {},
   "outputs": [
    {
     "data": {
      "text/plain": [
       "id\n",
       "1        False\n",
       "2        False\n",
       "3        False\n",
       "4        False\n",
       "5        False\n",
       "6        False\n",
       "7        False\n",
       "8        False\n",
       "9        False\n",
       "10       False\n",
       "11       False\n",
       "12       False\n",
       "13       False\n",
       "14       False\n",
       "15       False\n",
       "16       False\n",
       "17       False\n",
       "18       False\n",
       "19       False\n",
       "20       False\n",
       "21       False\n",
       "22       False\n",
       "23       False\n",
       "24       False\n",
       "25       False\n",
       "26       False\n",
       "27       False\n",
       "28       False\n",
       "29       False\n",
       "30       False\n",
       "         ...  \n",
       "9971     False\n",
       "9972     False\n",
       "9973     False\n",
       "9974     False\n",
       "9975      True\n",
       "9976     False\n",
       "9977      True\n",
       "9978     False\n",
       "9979      True\n",
       "9980      True\n",
       "9981     False\n",
       "9982     False\n",
       "9983     False\n",
       "9984     False\n",
       "9985      True\n",
       "9986      True\n",
       "9987      True\n",
       "9988      True\n",
       "9989     False\n",
       "9990     False\n",
       "9991     False\n",
       "9992     False\n",
       "9993     False\n",
       "9994     False\n",
       "9995      True\n",
       "9996     False\n",
       "9997      True\n",
       "9998     False\n",
       "9999     False\n",
       "10000    False\n",
       "Name: image_url, Length: 10000, dtype: bool"
      ]
     },
     "execution_count": 8,
     "metadata": {},
     "output_type": "execute_result"
    }
   ],
   "source": [
    "books.image_url.str.contains(\"nophoto\", regex = False)"
   ]
  },
  {
   "cell_type": "code",
   "execution_count": 39,
   "metadata": {},
   "outputs": [],
   "source": [
    "books_new = books.copy(True)"
   ]
  },
  {
   "cell_type": "code",
   "execution_count": 28,
   "metadata": {},
   "outputs": [],
   "source": [
    "import requests\n",
    "import re\n",
    "exp = re.compile(\"<img id=\\\"coverImage\\\" alt=\\\"[^\\\"]*\\\" src=\\\"([^\\\"]*)\\\"\")"
   ]
  },
  {
   "cell_type": "code",
   "execution_count": 46,
   "metadata": {
    "scrolled": true
   },
   "outputs": [
    {
     "name": "stdout",
     "output_type": "stream",
     "text": [
      "No image for 833\n",
      "50\n",
      "100\n",
      "150\n",
      "200\n",
      "250\n",
      "300\n",
      "350\n",
      "400\n",
      "450\n",
      "500\n",
      "550\n",
      "600\n",
      "650\n",
      "700\n",
      "750\n",
      "800\n",
      "850\n",
      "900\n",
      "950\n",
      "1000\n",
      "1050\n",
      "1100\n",
      "1150\n",
      "1200\n",
      "1250\n",
      "1300\n",
      "1350\n",
      "1400\n",
      "1450\n",
      "1500\n",
      "1550\n",
      "1600\n",
      "1650\n",
      "1700\n",
      "1750\n",
      "1800\n",
      "1850\n",
      "1900\n",
      "1950\n",
      "2000\n",
      "2050\n",
      "2100\n",
      "2150\n",
      "2200\n",
      "2250\n",
      "2300\n",
      "2350\n",
      "2400\n",
      "2450\n",
      "2500\n",
      "2550\n",
      "2600\n",
      "2650\n",
      "2700\n",
      "2750\n",
      "2800\n",
      "2850\n",
      "2900\n",
      "2950\n",
      "3000\n",
      "3050\n",
      "3100\n",
      "3150\n",
      "done\n"
     ]
    }
   ],
   "source": [
    "j = 0\n",
    "for i in range(books_new.shape[0]):\n",
    "    if \"nophoto\" in books_new.iloc[i,:].image_url:\n",
    "        response = requests.get(books_new.iloc[i,:].url)\n",
    "        try:\n",
    "            new_url = exp.search(response.text).group(1)\n",
    "            books_new.iloc[i,:].image_url = new_url\n",
    "            j += 1\n",
    "            if j % 50 == 49:\n",
    "                print(j + 1)\n",
    "        except AttributeError:\n",
    "            print('No image for %d' % i)\n",
    "print(\"done\")"
   ]
  },
  {
   "cell_type": "code",
   "execution_count": 49,
   "metadata": {},
   "outputs": [
    {
     "data": {
      "text/plain": [
       "'https://s.gr-assets.com/assets/nophoto/book/111x148-bcc042a9c91a29c1d680899eff700a03.png'"
      ]
     },
     "execution_count": 49,
     "metadata": {},
     "output_type": "execute_result"
    }
   ],
   "source": [
    "books.iloc[32,:].image_url"
   ]
  },
  {
   "cell_type": "code",
   "execution_count": 50,
   "metadata": {},
   "outputs": [
    {
     "data": {
      "text/plain": [
       "'https://images.gr-assets.com/books/1388367666l/930.jpg'"
      ]
     },
     "execution_count": 50,
     "metadata": {},
     "output_type": "execute_result"
    }
   ],
   "source": [
    "books_new.iloc[32,:].image_url"
   ]
  },
  {
   "cell_type": "code",
   "execution_count": 51,
   "metadata": {},
   "outputs": [
    {
     "data": {
      "text/plain": [
       "1"
      ]
     },
     "execution_count": 51,
     "metadata": {},
     "output_type": "execute_result"
    }
   ],
   "source": [
    "books_new.image_url.str.contains(\"nophoto\", regex = False).sum()"
   ]
  },
  {
   "cell_type": "code",
   "execution_count": 52,
   "metadata": {},
   "outputs": [],
   "source": [
    "books_new.to_pickle('books_dataframe2')"
   ]
  }
 ],
 "metadata": {
  "kernelspec": {
   "display_name": "Python 3",
   "language": "python",
   "name": "python3"
  },
  "language_info": {
   "codemirror_mode": {
    "name": "ipython",
    "version": 3
   },
   "file_extension": ".py",
   "mimetype": "text/x-python",
   "name": "python",
   "nbconvert_exporter": "python",
   "pygments_lexer": "ipython3",
   "version": "3.6.5"
  }
 },
 "nbformat": 4,
 "nbformat_minor": 2
}
