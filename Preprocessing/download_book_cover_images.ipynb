{
 "cells": [
  {
   "cell_type": "code",
   "execution_count": 15,
   "metadata": {
    "collapsed": true
   },
   "outputs": [],
   "source": [
    "import urllib.request\n",
    "import pandas as pd"
   ]
  },
  {
   "cell_type": "code",
   "execution_count": 16,
   "metadata": {},
   "outputs": [],
   "source": [
    "# make sure to pull the dataframe with the corrected image urls, however you named it on locally!\n",
    "books = pd.read_pickle('../.tmp/books_dataframe_reduced') "
   ]
  },
  {
   "cell_type": "code",
   "execution_count": 17,
   "metadata": {},
   "outputs": [
    {
     "data": {
      "text/plain": [
       "'https://images.gr-assets.com/books/1447303603m/2767052.jpg'"
      ]
     },
     "execution_count": 17,
     "metadata": {},
     "output_type": "execute_result"
    }
   ],
   "source": [
    "books.iloc[0]['image_url']"
   ]
  },
  {
   "cell_type": "code",
   "execution_count": 20,
   "metadata": {},
   "outputs": [
    {
     "name": "stdout",
     "output_type": "stream",
     "text": [
      "\u0000ompleted\n",
      "Ǵompleted\n",
      "Ϩompleted\n",
      "לompleted\n",
      "ߐompleted\n",
      "ৄompleted\n",
      "ஸompleted\n",
      "ඬompleted\n",
      "ྠompleted\n",
      "ᆔompleted\n",
      "ᎈompleted\n",
      "ᕼompleted\n",
      "ᝰompleted\n",
      "ᥤompleted\n",
      "᭘ompleted\n",
      "ᵌompleted\n",
      "ὀompleted\n",
      "ℴompleted\n",
      "⌨ompleted\n",
      "├ompleted\n"
     ]
    }
   ],
   "source": [
    "i = 0\n",
    "for index, row in books.iterrows():\n",
    "    if i % 500 == 0:\n",
    "        print(\"% completed\" % (i))\n",
    "    image_url = row['image_url']\n",
    "    filepath = '../.tmp/book_covers/'+str(index)+'.jpg'\n",
    "    urllib.request.urlretrieve(image_url, filepath)\n",
    "    i += 1"
   ]
  },
  {
   "cell_type": "code",
   "execution_count": null,
   "metadata": {
    "collapsed": true
   },
   "outputs": [],
   "source": []
  }
 ],
 "metadata": {
  "kernelspec": {
   "display_name": "Python 3",
   "language": "python",
   "name": "python3"
  },
  "language_info": {
   "codemirror_mode": {
    "name": "ipython",
    "version": 3
   },
   "file_extension": ".py",
   "mimetype": "text/x-python",
   "name": "python",
   "nbconvert_exporter": "python",
   "pygments_lexer": "ipython3",
   "version": "3.6.3"
  }
 },
 "nbformat": 4,
 "nbformat_minor": 2
}
